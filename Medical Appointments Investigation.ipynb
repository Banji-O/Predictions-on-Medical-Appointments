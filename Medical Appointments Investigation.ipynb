{
 "cells": [
  {
   "cell_type": "markdown",
   "metadata": {},
   "source": [
    "> \n",
    "\n",
    "# Project: Medical Appointments Investigation \n",
    "### by Banji Owabumoye\n",
    "\n",
    "## Table of Contents\n",
    "<ul>\n",
    "<li><a href=\"#intro\">Introduction</a></li>\n",
    "<li><a href=\"#wrangling\">Data Wrangling</a></li>\n",
    "<li><a href=\"#eda\">Exploratory Data Analysis</a></li>\n",
    "<li><a href=\"#conclusions\">Conclusions</a></li>\n",
    "</ul>"
   ]
  },
  {
   "cell_type": "markdown",
   "metadata": {},
   "source": [
    "<a id='intro'></a>\n",
    "## Introduction\n",
    "Medical appointments in some neighbourhoods in Brazil will be investigated in this project. The investigation will assist knowing factors to consider in order to predict availability of patients on scheduled date. Brazil is the largest country in South America with over 200 million population.  [wikipedia](https://en.wikipedia.org/wiki/Brazil).\n",
    "\n",
    "\n",
    "### Dataset Description \n",
    "**No-show dataset** will be used for this project. The dataset contains some medical information on medical appointments of over one hundred thousand `(100,000)` patients, in some selected Brazilian neighbourhoods. These neighbourhoods are where the hospitals are located. The 14 variables of this dataset are:\n",
    "\n",
    "**PatientId:** identification of the patient\n",
    "\n",
    "**AppointmentID:** identification of each appointment\n",
    "\n",
    "**Gender:** male or female\n",
    "\n",
    "**ScheduledDay:** the day the patient is expected to come to the hospital\n",
    "\n",
    "**AppointmentDay:** the day the patient is registered and given a date to come to the hospital\n",
    "\n",
    "**Age:** how old is the patient\n",
    "\n",
    "**Neighbourhood:** geographical location of appointment\n",
    "\n",
    "**Scholarship:** patients that are enrolled or not enrolled in welfare program of Brazil \n",
    "\n",
    "**Hipertension:** true or false\n",
    "\n",
    "**Diabetes:** true or false\n",
    "\n",
    "**Alcoholism:** true or false\n",
    "\n",
    "**Handcap:** true or false\n",
    "\n",
    "**SMS_received:** 1 or more messages sent to patient\n",
    "\n",
    "**No-show:** true or false (No or Yes). Please note: `'No'` means the patient was not absent and `'Yes'` means the patient was absent.\n",
    "\n",
    " \n",
    "### Question(s) for Analysis\n",
    "\n",
    "\n",
    "Considering variables provided in the dataset, factors that can be used to predict patients' availability for appointment on scheduled date are:\n",
    "\n",
    "1.What is the population distribution of patients from each neighbourhood and from which neighbourhood are patients likely to be more?\n",
    "\n",
    "2.Considering male and female genders in the dataset, which gender would likely show up more on scheduled day and are younger patients likely to be available on scheduled day than older patients?\n",
    "\n",
    "3.Which of the weekdays are patients most likely to be present?\n",
    "\n",
    "4.Are patients captured in welfare program (scholarship) more than those not captured and are patients that received sms-message more than those that did not receive on scheduled day?\n",
    "> "
   ]
  },
  {
   "cell_type": "code",
   "execution_count": 5,
   "metadata": {},
   "outputs": [],
   "source": [
    "# Import packages that will be needed for this project\n",
    "\n",
    "import pandas as pd\n",
    "import numpy as np\n",
    "import matplotlib.pyplot as plt\n",
    "import seaborn as sns\n",
    "from calendar import day_name\n",
    "\n",
    "%matplotlib inline"
   ]
  },
  {
   "cell_type": "markdown",
   "metadata": {},
   "source": [
    "<a id='wrangling'></a>\n",
    "## Data Wrangling\n",
    "\n",
    "### General Properties"
   ]
  },
  {
   "cell_type": "code",
   "execution_count": 6,
   "metadata": {},
   "outputs": [],
   "source": [
    "# loading dataset and converting to dataframe. \n",
    "med_df = pd.read_csv('no_show.csv')"
   ]
  },
  {
   "cell_type": "code",
   "execution_count": 7,
   "metadata": {},
   "outputs": [
    {
     "data": {
      "text/html": [
       "<div>\n",
       "<style scoped>\n",
       "    .dataframe tbody tr th:only-of-type {\n",
       "        vertical-align: middle;\n",
       "    }\n",
       "\n",
       "    .dataframe tbody tr th {\n",
       "        vertical-align: top;\n",
       "    }\n",
       "\n",
       "    .dataframe thead th {\n",
       "        text-align: right;\n",
       "    }\n",
       "</style>\n",
       "<table border=\"1\" class=\"dataframe\">\n",
       "  <thead>\n",
       "    <tr style=\"text-align: right;\">\n",
       "      <th></th>\n",
       "      <th>PatientId</th>\n",
       "      <th>AppointmentID</th>\n",
       "      <th>Gender</th>\n",
       "      <th>ScheduledDay</th>\n",
       "      <th>AppointmentDay</th>\n",
       "      <th>Age</th>\n",
       "      <th>Neighbourhood</th>\n",
       "      <th>Scholarship</th>\n",
       "      <th>Hipertension</th>\n",
       "      <th>Diabetes</th>\n",
       "      <th>Alcoholism</th>\n",
       "      <th>Handcap</th>\n",
       "      <th>SMS_received</th>\n",
       "      <th>No-show</th>\n",
       "    </tr>\n",
       "  </thead>\n",
       "  <tbody>\n",
       "    <tr>\n",
       "      <th>0</th>\n",
       "      <td>2.987250e+13</td>\n",
       "      <td>5642903</td>\n",
       "      <td>F</td>\n",
       "      <td>2016-04-29T18:38:08Z</td>\n",
       "      <td>2016-04-29T00:00:00Z</td>\n",
       "      <td>62</td>\n",
       "      <td>JARDIM DA PENHA</td>\n",
       "      <td>0</td>\n",
       "      <td>1</td>\n",
       "      <td>0</td>\n",
       "      <td>0</td>\n",
       "      <td>0</td>\n",
       "      <td>0</td>\n",
       "      <td>No</td>\n",
       "    </tr>\n",
       "    <tr>\n",
       "      <th>1</th>\n",
       "      <td>5.589978e+14</td>\n",
       "      <td>5642503</td>\n",
       "      <td>M</td>\n",
       "      <td>2016-04-29T16:08:27Z</td>\n",
       "      <td>2016-04-29T00:00:00Z</td>\n",
       "      <td>56</td>\n",
       "      <td>JARDIM DA PENHA</td>\n",
       "      <td>0</td>\n",
       "      <td>0</td>\n",
       "      <td>0</td>\n",
       "      <td>0</td>\n",
       "      <td>0</td>\n",
       "      <td>0</td>\n",
       "      <td>No</td>\n",
       "    </tr>\n",
       "  </tbody>\n",
       "</table>\n",
       "</div>"
      ],
      "text/plain": [
       "      PatientId  AppointmentID Gender          ScheduledDay  \\\n",
       "0  2.987250e+13        5642903      F  2016-04-29T18:38:08Z   \n",
       "1  5.589978e+14        5642503      M  2016-04-29T16:08:27Z   \n",
       "\n",
       "         AppointmentDay  Age    Neighbourhood  Scholarship  Hipertension  \\\n",
       "0  2016-04-29T00:00:00Z   62  JARDIM DA PENHA            0             1   \n",
       "1  2016-04-29T00:00:00Z   56  JARDIM DA PENHA            0             0   \n",
       "\n",
       "   Diabetes  Alcoholism  Handcap  SMS_received No-show  \n",
       "0         0           0        0             0      No  \n",
       "1         0           0        0             0      No  "
      ]
     },
     "execution_count": 7,
     "metadata": {},
     "output_type": "execute_result"
    }
   ],
   "source": [
    "# to view the columns and few rows of the dataset\n",
    "med_df.head(2)"
   ]
  },
  {
   "cell_type": "markdown",
   "metadata": {},
   "source": [
    ">`head()` function will be used as much as possible in this project to view output of operations "
   ]
  },
  {
   "cell_type": "code",
   "execution_count": 8,
   "metadata": {
    "scrolled": true
   },
   "outputs": [
    {
     "name": "stdout",
     "output_type": "stream",
     "text": [
      "<class 'pandas.core.frame.DataFrame'>\n",
      "RangeIndex: 110527 entries, 0 to 110526\n",
      "Data columns (total 14 columns):\n",
      "PatientId         110527 non-null float64\n",
      "AppointmentID     110527 non-null int64\n",
      "Gender            110527 non-null object\n",
      "ScheduledDay      110527 non-null object\n",
      "AppointmentDay    110527 non-null object\n",
      "Age               110527 non-null int64\n",
      "Neighbourhood     110527 non-null object\n",
      "Scholarship       110527 non-null int64\n",
      "Hipertension      110527 non-null int64\n",
      "Diabetes          110527 non-null int64\n",
      "Alcoholism        110527 non-null int64\n",
      "Handcap           110527 non-null int64\n",
      "SMS_received      110527 non-null int64\n",
      "No-show           110527 non-null object\n",
      "dtypes: float64(1), int64(8), object(5)\n",
      "memory usage: 11.8+ MB\n"
     ]
    }
   ],
   "source": [
    "# to have quick insight on rows number, columns number, and data type\n",
    "med_df.info()"
   ]
  },
  {
   "cell_type": "markdown",
   "metadata": {},
   "source": [
    ">The dataset contains 110527 rows and 14 columns. The dataset rows are complete without missing or null values. However, the column labels containing uppercase character will be converted to lowercase in order to avoid some errors during analysis. **'ScheduledDay'** and **'AppointmentDay'** columns will be converted from *object* datatype to *datetime* datatype. \n",
    "\n",
    ">`info()` function will be used as much as possible in this project to view effect of operations"
   ]
  },
  {
   "cell_type": "code",
   "execution_count": 9,
   "metadata": {},
   "outputs": [
    {
     "data": {
      "text/plain": [
       "0"
      ]
     },
     "execution_count": 9,
     "metadata": {},
     "output_type": "execute_result"
    }
   ],
   "source": [
    "# checking for dataset duplicate\n",
    "sum(med_df.duplicated())"
   ]
  },
  {
   "cell_type": "markdown",
   "metadata": {},
   "source": [
    ">The dataset has no duplicated rows"
   ]
  },
  {
   "cell_type": "code",
   "execution_count": 10,
   "metadata": {},
   "outputs": [
    {
     "data": {
      "text/html": [
       "<div>\n",
       "<style scoped>\n",
       "    .dataframe tbody tr th:only-of-type {\n",
       "        vertical-align: middle;\n",
       "    }\n",
       "\n",
       "    .dataframe tbody tr th {\n",
       "        vertical-align: top;\n",
       "    }\n",
       "\n",
       "    .dataframe thead th {\n",
       "        text-align: right;\n",
       "    }\n",
       "</style>\n",
       "<table border=\"1\" class=\"dataframe\">\n",
       "  <thead>\n",
       "    <tr style=\"text-align: right;\">\n",
       "      <th></th>\n",
       "      <th>PatientId</th>\n",
       "      <th>AppointmentID</th>\n",
       "      <th>Age</th>\n",
       "      <th>Scholarship</th>\n",
       "      <th>Hipertension</th>\n",
       "      <th>Diabetes</th>\n",
       "      <th>Alcoholism</th>\n",
       "      <th>Handcap</th>\n",
       "      <th>SMS_received</th>\n",
       "    </tr>\n",
       "  </thead>\n",
       "  <tbody>\n",
       "    <tr>\n",
       "      <th>count</th>\n",
       "      <td>1.105270e+05</td>\n",
       "      <td>1.105270e+05</td>\n",
       "      <td>110527.000000</td>\n",
       "      <td>110527.000000</td>\n",
       "      <td>110527.000000</td>\n",
       "      <td>110527.000000</td>\n",
       "      <td>110527.000000</td>\n",
       "      <td>110527.000000</td>\n",
       "      <td>110527.000000</td>\n",
       "    </tr>\n",
       "    <tr>\n",
       "      <th>mean</th>\n",
       "      <td>1.474963e+14</td>\n",
       "      <td>5.675305e+06</td>\n",
       "      <td>37.088874</td>\n",
       "      <td>0.098266</td>\n",
       "      <td>0.197246</td>\n",
       "      <td>0.071865</td>\n",
       "      <td>0.030400</td>\n",
       "      <td>0.022248</td>\n",
       "      <td>0.321026</td>\n",
       "    </tr>\n",
       "    <tr>\n",
       "      <th>std</th>\n",
       "      <td>2.560949e+14</td>\n",
       "      <td>7.129575e+04</td>\n",
       "      <td>23.110205</td>\n",
       "      <td>0.297675</td>\n",
       "      <td>0.397921</td>\n",
       "      <td>0.258265</td>\n",
       "      <td>0.171686</td>\n",
       "      <td>0.161543</td>\n",
       "      <td>0.466873</td>\n",
       "    </tr>\n",
       "    <tr>\n",
       "      <th>min</th>\n",
       "      <td>3.921784e+04</td>\n",
       "      <td>5.030230e+06</td>\n",
       "      <td>-1.000000</td>\n",
       "      <td>0.000000</td>\n",
       "      <td>0.000000</td>\n",
       "      <td>0.000000</td>\n",
       "      <td>0.000000</td>\n",
       "      <td>0.000000</td>\n",
       "      <td>0.000000</td>\n",
       "    </tr>\n",
       "    <tr>\n",
       "      <th>25%</th>\n",
       "      <td>4.172614e+12</td>\n",
       "      <td>5.640286e+06</td>\n",
       "      <td>18.000000</td>\n",
       "      <td>0.000000</td>\n",
       "      <td>0.000000</td>\n",
       "      <td>0.000000</td>\n",
       "      <td>0.000000</td>\n",
       "      <td>0.000000</td>\n",
       "      <td>0.000000</td>\n",
       "    </tr>\n",
       "    <tr>\n",
       "      <th>50%</th>\n",
       "      <td>3.173184e+13</td>\n",
       "      <td>5.680573e+06</td>\n",
       "      <td>37.000000</td>\n",
       "      <td>0.000000</td>\n",
       "      <td>0.000000</td>\n",
       "      <td>0.000000</td>\n",
       "      <td>0.000000</td>\n",
       "      <td>0.000000</td>\n",
       "      <td>0.000000</td>\n",
       "    </tr>\n",
       "    <tr>\n",
       "      <th>75%</th>\n",
       "      <td>9.439172e+13</td>\n",
       "      <td>5.725524e+06</td>\n",
       "      <td>55.000000</td>\n",
       "      <td>0.000000</td>\n",
       "      <td>0.000000</td>\n",
       "      <td>0.000000</td>\n",
       "      <td>0.000000</td>\n",
       "      <td>0.000000</td>\n",
       "      <td>1.000000</td>\n",
       "    </tr>\n",
       "    <tr>\n",
       "      <th>max</th>\n",
       "      <td>9.999816e+14</td>\n",
       "      <td>5.790484e+06</td>\n",
       "      <td>115.000000</td>\n",
       "      <td>1.000000</td>\n",
       "      <td>1.000000</td>\n",
       "      <td>1.000000</td>\n",
       "      <td>1.000000</td>\n",
       "      <td>4.000000</td>\n",
       "      <td>1.000000</td>\n",
       "    </tr>\n",
       "  </tbody>\n",
       "</table>\n",
       "</div>"
      ],
      "text/plain": [
       "          PatientId  AppointmentID            Age    Scholarship  \\\n",
       "count  1.105270e+05   1.105270e+05  110527.000000  110527.000000   \n",
       "mean   1.474963e+14   5.675305e+06      37.088874       0.098266   \n",
       "std    2.560949e+14   7.129575e+04      23.110205       0.297675   \n",
       "min    3.921784e+04   5.030230e+06      -1.000000       0.000000   \n",
       "25%    4.172614e+12   5.640286e+06      18.000000       0.000000   \n",
       "50%    3.173184e+13   5.680573e+06      37.000000       0.000000   \n",
       "75%    9.439172e+13   5.725524e+06      55.000000       0.000000   \n",
       "max    9.999816e+14   5.790484e+06     115.000000       1.000000   \n",
       "\n",
       "        Hipertension       Diabetes     Alcoholism        Handcap  \\\n",
       "count  110527.000000  110527.000000  110527.000000  110527.000000   \n",
       "mean        0.197246       0.071865       0.030400       0.022248   \n",
       "std         0.397921       0.258265       0.171686       0.161543   \n",
       "min         0.000000       0.000000       0.000000       0.000000   \n",
       "25%         0.000000       0.000000       0.000000       0.000000   \n",
       "50%         0.000000       0.000000       0.000000       0.000000   \n",
       "75%         0.000000       0.000000       0.000000       0.000000   \n",
       "max         1.000000       1.000000       1.000000       4.000000   \n",
       "\n",
       "        SMS_received  \n",
       "count  110527.000000  \n",
       "mean        0.321026  \n",
       "std         0.466873  \n",
       "min         0.000000  \n",
       "25%         0.000000  \n",
       "50%         0.000000  \n",
       "75%         1.000000  \n",
       "max         1.000000  "
      ]
     },
     "execution_count": 10,
     "metadata": {},
     "output_type": "execute_result"
    }
   ],
   "source": [
    "# summarized descriptive statistics of the dataset\n",
    "med_df.describe()"
   ]
  },
  {
   "cell_type": "markdown",
   "metadata": {},
   "source": [
    ">The output of the descriptive statistics reveals that the youngest person is less than a year and the oldest \n",
    "person is 115 years old. Also, columns like scholarship, hipertension, diabetes, alcoholism, handcap, and sms_received contain 0 and 1 categorical data"
   ]
  },
  {
   "cell_type": "markdown",
   "metadata": {},
   "source": [
    "\n",
    "### Data Cleaning"
   ]
  },
  {
   "cell_type": "code",
   "execution_count": 11,
   "metadata": {},
   "outputs": [
    {
     "data": {
      "text/html": [
       "<div>\n",
       "<style scoped>\n",
       "    .dataframe tbody tr th:only-of-type {\n",
       "        vertical-align: middle;\n",
       "    }\n",
       "\n",
       "    .dataframe tbody tr th {\n",
       "        vertical-align: top;\n",
       "    }\n",
       "\n",
       "    .dataframe thead th {\n",
       "        text-align: right;\n",
       "    }\n",
       "</style>\n",
       "<table border=\"1\" class=\"dataframe\">\n",
       "  <thead>\n",
       "    <tr style=\"text-align: right;\">\n",
       "      <th></th>\n",
       "      <th>PatientId</th>\n",
       "      <th>AppointmentID</th>\n",
       "      <th>Gender</th>\n",
       "      <th>ScheduledDay</th>\n",
       "      <th>AppointmentDay</th>\n",
       "      <th>Age</th>\n",
       "      <th>Neighbourhood</th>\n",
       "      <th>Scholarship</th>\n",
       "      <th>Hipertension</th>\n",
       "      <th>Diabetes</th>\n",
       "      <th>Alcoholism</th>\n",
       "      <th>Handcap</th>\n",
       "      <th>SMS_received</th>\n",
       "      <th>No-show</th>\n",
       "      <th>Appointment_date</th>\n",
       "      <th>Scheduled_date</th>\n",
       "    </tr>\n",
       "  </thead>\n",
       "  <tbody>\n",
       "    <tr>\n",
       "      <th>0</th>\n",
       "      <td>2.987250e+13</td>\n",
       "      <td>5642903</td>\n",
       "      <td>F</td>\n",
       "      <td>2016-04-29T18:38:08Z</td>\n",
       "      <td>2016-04-29T00:00:00Z</td>\n",
       "      <td>62</td>\n",
       "      <td>JARDIM DA PENHA</td>\n",
       "      <td>0</td>\n",
       "      <td>1</td>\n",
       "      <td>0</td>\n",
       "      <td>0</td>\n",
       "      <td>0</td>\n",
       "      <td>0</td>\n",
       "      <td>No</td>\n",
       "      <td>2016-04-29</td>\n",
       "      <td>2016-04-29 18:38:08</td>\n",
       "    </tr>\n",
       "    <tr>\n",
       "      <th>1</th>\n",
       "      <td>5.589978e+14</td>\n",
       "      <td>5642503</td>\n",
       "      <td>M</td>\n",
       "      <td>2016-04-29T16:08:27Z</td>\n",
       "      <td>2016-04-29T00:00:00Z</td>\n",
       "      <td>56</td>\n",
       "      <td>JARDIM DA PENHA</td>\n",
       "      <td>0</td>\n",
       "      <td>0</td>\n",
       "      <td>0</td>\n",
       "      <td>0</td>\n",
       "      <td>0</td>\n",
       "      <td>0</td>\n",
       "      <td>No</td>\n",
       "      <td>2016-04-29</td>\n",
       "      <td>2016-04-29 16:08:27</td>\n",
       "    </tr>\n",
       "  </tbody>\n",
       "</table>\n",
       "</div>"
      ],
      "text/plain": [
       "      PatientId  AppointmentID Gender          ScheduledDay  \\\n",
       "0  2.987250e+13        5642903      F  2016-04-29T18:38:08Z   \n",
       "1  5.589978e+14        5642503      M  2016-04-29T16:08:27Z   \n",
       "\n",
       "         AppointmentDay  Age    Neighbourhood  Scholarship  Hipertension  \\\n",
       "0  2016-04-29T00:00:00Z   62  JARDIM DA PENHA            0             1   \n",
       "1  2016-04-29T00:00:00Z   56  JARDIM DA PENHA            0             0   \n",
       "\n",
       "   Diabetes  Alcoholism  Handcap  SMS_received No-show Appointment_date  \\\n",
       "0         0           0        0             0      No       2016-04-29   \n",
       "1         0           0        0             0      No       2016-04-29   \n",
       "\n",
       "       Scheduled_date  \n",
       "0 2016-04-29 18:38:08  \n",
       "1 2016-04-29 16:08:27  "
      ]
     },
     "execution_count": 11,
     "metadata": {},
     "output_type": "execute_result"
    }
   ],
   "source": [
    "# function for converting object datatype to datetime datatype\n",
    "def to_date(new_column, old_column):\n",
    "    \"\"\" Conversion of some columns datatype \n",
    "    to datetime datatype in a new column \n",
    "    \"\"\"\n",
    "    med_df[new_column] = pd.to_datetime(med_df[old_column])\n",
    "    \n",
    "# using to_date function to convert columns to datetime datatype\n",
    "to_date('Appointment_date', 'AppointmentDay')\n",
    "to_date('Scheduled_date','ScheduledDay')\n",
    "\n",
    "med_df.head(2)"
   ]
  },
  {
   "cell_type": "markdown",
   "metadata": {},
   "source": [
    ">*ScheduledDay* and *AppointmentDay* columns were converted from object datatype to datetime \n",
    "datatype. This will enable extraction of weekdays' numbers."
   ]
  },
  {
   "cell_type": "code",
   "execution_count": 12,
   "metadata": {},
   "outputs": [
    {
     "name": "stdout",
     "output_type": "stream",
     "text": [
      "<class 'pandas.core.frame.DataFrame'>\n",
      "RangeIndex: 110527 entries, 0 to 110526\n",
      "Data columns (total 16 columns):\n",
      "PatientId           110527 non-null float64\n",
      "AppointmentID       110527 non-null int64\n",
      "Gender              110527 non-null object\n",
      "ScheduledDay        110527 non-null object\n",
      "AppointmentDay      110527 non-null object\n",
      "Age                 110527 non-null int64\n",
      "Neighbourhood       110527 non-null object\n",
      "Scholarship         110527 non-null int64\n",
      "Hipertension        110527 non-null int64\n",
      "Diabetes            110527 non-null int64\n",
      "Alcoholism          110527 non-null int64\n",
      "Handcap             110527 non-null int64\n",
      "SMS_received        110527 non-null int64\n",
      "No-show             110527 non-null object\n",
      "Appointment_date    110527 non-null datetime64[ns]\n",
      "Scheduled_date      110527 non-null datetime64[ns]\n",
      "dtypes: datetime64[ns](2), float64(1), int64(8), object(5)\n",
      "memory usage: 13.5+ MB\n"
     ]
    }
   ],
   "source": [
    "# confirm ScheduledDay and AppointmentDay columns datatype\n",
    "med_df.info()"
   ]
  },
  {
   "cell_type": "code",
   "execution_count": 13,
   "metadata": {},
   "outputs": [
    {
     "data": {
      "text/html": [
       "<div>\n",
       "<style scoped>\n",
       "    .dataframe tbody tr th:only-of-type {\n",
       "        vertical-align: middle;\n",
       "    }\n",
       "\n",
       "    .dataframe tbody tr th {\n",
       "        vertical-align: top;\n",
       "    }\n",
       "\n",
       "    .dataframe thead th {\n",
       "        text-align: right;\n",
       "    }\n",
       "</style>\n",
       "<table border=\"1\" class=\"dataframe\">\n",
       "  <thead>\n",
       "    <tr style=\"text-align: right;\">\n",
       "      <th></th>\n",
       "      <th>PatientId</th>\n",
       "      <th>AppointmentID</th>\n",
       "      <th>Gender</th>\n",
       "      <th>ScheduledDay</th>\n",
       "      <th>AppointmentDay</th>\n",
       "      <th>Age</th>\n",
       "      <th>Neighbourhood</th>\n",
       "      <th>Scholarship</th>\n",
       "      <th>Hipertension</th>\n",
       "      <th>Diabetes</th>\n",
       "      <th>Alcoholism</th>\n",
       "      <th>Handcap</th>\n",
       "      <th>SMS_received</th>\n",
       "      <th>No-show</th>\n",
       "      <th>Appointment_date</th>\n",
       "      <th>Scheduled_date</th>\n",
       "      <th>day</th>\n",
       "    </tr>\n",
       "  </thead>\n",
       "  <tbody>\n",
       "    <tr>\n",
       "      <th>0</th>\n",
       "      <td>2.987250e+13</td>\n",
       "      <td>5642903</td>\n",
       "      <td>F</td>\n",
       "      <td>2016-04-29T18:38:08Z</td>\n",
       "      <td>2016-04-29T00:00:00Z</td>\n",
       "      <td>62</td>\n",
       "      <td>JARDIM DA PENHA</td>\n",
       "      <td>0</td>\n",
       "      <td>1</td>\n",
       "      <td>0</td>\n",
       "      <td>0</td>\n",
       "      <td>0</td>\n",
       "      <td>0</td>\n",
       "      <td>No</td>\n",
       "      <td>2016-04-29</td>\n",
       "      <td>2016-04-29 18:38:08</td>\n",
       "      <td>4</td>\n",
       "    </tr>\n",
       "    <tr>\n",
       "      <th>1</th>\n",
       "      <td>5.589978e+14</td>\n",
       "      <td>5642503</td>\n",
       "      <td>M</td>\n",
       "      <td>2016-04-29T16:08:27Z</td>\n",
       "      <td>2016-04-29T00:00:00Z</td>\n",
       "      <td>56</td>\n",
       "      <td>JARDIM DA PENHA</td>\n",
       "      <td>0</td>\n",
       "      <td>0</td>\n",
       "      <td>0</td>\n",
       "      <td>0</td>\n",
       "      <td>0</td>\n",
       "      <td>0</td>\n",
       "      <td>No</td>\n",
       "      <td>2016-04-29</td>\n",
       "      <td>2016-04-29 16:08:27</td>\n",
       "      <td>4</td>\n",
       "    </tr>\n",
       "  </tbody>\n",
       "</table>\n",
       "</div>"
      ],
      "text/plain": [
       "      PatientId  AppointmentID Gender          ScheduledDay  \\\n",
       "0  2.987250e+13        5642903      F  2016-04-29T18:38:08Z   \n",
       "1  5.589978e+14        5642503      M  2016-04-29T16:08:27Z   \n",
       "\n",
       "         AppointmentDay  Age    Neighbourhood  Scholarship  Hipertension  \\\n",
       "0  2016-04-29T00:00:00Z   62  JARDIM DA PENHA            0             1   \n",
       "1  2016-04-29T00:00:00Z   56  JARDIM DA PENHA            0             0   \n",
       "\n",
       "   Diabetes  Alcoholism  Handcap  SMS_received No-show Appointment_date  \\\n",
       "0         0           0        0             0      No       2016-04-29   \n",
       "1         0           0        0             0      No       2016-04-29   \n",
       "\n",
       "       Scheduled_date  day  \n",
       "0 2016-04-29 18:38:08    4  \n",
       "1 2016-04-29 16:08:27    4  "
      ]
     },
     "execution_count": 13,
     "metadata": {},
     "output_type": "execute_result"
    }
   ],
   "source": [
    "# getting days number from Scheduled_date and creating day column\n",
    "med_df['day'] = med_df['Scheduled_date'].dt.weekday\n",
    "\n",
    "med_df.head(2)"
   ]
  },
  {
   "cell_type": "markdown",
   "metadata": {},
   "source": [
    ">Getting days number will enable generation of names of weekdays that will be used for analysis in this project"
   ]
  },
  {
   "cell_type": "code",
   "execution_count": 14,
   "metadata": {},
   "outputs": [
    {
     "name": "stdout",
     "output_type": "stream",
     "text": [
      "<class 'pandas.core.frame.DataFrame'>\n",
      "RangeIndex: 110527 entries, 0 to 110526\n",
      "Data columns (total 18 columns):\n",
      "PatientId           110527 non-null float64\n",
      "AppointmentID       110527 non-null int64\n",
      "Gender              110527 non-null object\n",
      "ScheduledDay        110527 non-null object\n",
      "AppointmentDay      110527 non-null object\n",
      "Age                 110527 non-null int64\n",
      "Neighbourhood       110527 non-null object\n",
      "Scholarship         110527 non-null int64\n",
      "Hipertension        110527 non-null int64\n",
      "Diabetes            110527 non-null int64\n",
      "Alcoholism          110527 non-null int64\n",
      "Handcap             110527 non-null int64\n",
      "SMS_received        110527 non-null int64\n",
      "No-show             110527 non-null object\n",
      "Appointment_date    110527 non-null datetime64[ns]\n",
      "Scheduled_date      110527 non-null datetime64[ns]\n",
      "day                 110527 non-null int64\n",
      "days_name           110527 non-null object\n",
      "dtypes: datetime64[ns](2), float64(1), int64(9), object(6)\n",
      "memory usage: 15.2+ MB\n"
     ]
    }
   ],
   "source": [
    "# # converting number of days to weekday name in a new column\n",
    "med_df['days_name'] = med_df['day'].apply(lambda w:day_name[w])\n",
    "\n",
    "med_df.info()"
   ]
  },
  {
   "cell_type": "markdown",
   "metadata": {},
   "source": [
    ">`days_name` column is added to the dataframe. The column will contain names of weekdays that will be used to answer some questions stated."
   ]
  },
  {
   "cell_type": "code",
   "execution_count": 15,
   "metadata": {},
   "outputs": [
    {
     "data": {
      "text/html": [
       "<div>\n",
       "<style scoped>\n",
       "    .dataframe tbody tr th:only-of-type {\n",
       "        vertical-align: middle;\n",
       "    }\n",
       "\n",
       "    .dataframe tbody tr th {\n",
       "        vertical-align: top;\n",
       "    }\n",
       "\n",
       "    .dataframe thead th {\n",
       "        text-align: right;\n",
       "    }\n",
       "</style>\n",
       "<table border=\"1\" class=\"dataframe\">\n",
       "  <thead>\n",
       "    <tr style=\"text-align: right;\">\n",
       "      <th></th>\n",
       "      <th>patientid</th>\n",
       "      <th>appointmentid</th>\n",
       "      <th>gender</th>\n",
       "      <th>scheduledday</th>\n",
       "      <th>appointmentday</th>\n",
       "      <th>age</th>\n",
       "      <th>neighbourhood</th>\n",
       "      <th>scholarship</th>\n",
       "      <th>hipertension</th>\n",
       "      <th>diabetes</th>\n",
       "      <th>alcoholism</th>\n",
       "      <th>handcap</th>\n",
       "      <th>sms_received</th>\n",
       "      <th>no-show</th>\n",
       "      <th>appointment_date</th>\n",
       "      <th>scheduled_date</th>\n",
       "      <th>day</th>\n",
       "      <th>days_name</th>\n",
       "    </tr>\n",
       "  </thead>\n",
       "  <tbody>\n",
       "    <tr>\n",
       "      <th>0</th>\n",
       "      <td>2.987250e+13</td>\n",
       "      <td>5642903</td>\n",
       "      <td>F</td>\n",
       "      <td>2016-04-29T18:38:08Z</td>\n",
       "      <td>2016-04-29T00:00:00Z</td>\n",
       "      <td>62</td>\n",
       "      <td>JARDIM DA PENHA</td>\n",
       "      <td>0</td>\n",
       "      <td>1</td>\n",
       "      <td>0</td>\n",
       "      <td>0</td>\n",
       "      <td>0</td>\n",
       "      <td>0</td>\n",
       "      <td>No</td>\n",
       "      <td>2016-04-29</td>\n",
       "      <td>2016-04-29 18:38:08</td>\n",
       "      <td>4</td>\n",
       "      <td>Friday</td>\n",
       "    </tr>\n",
       "    <tr>\n",
       "      <th>1</th>\n",
       "      <td>5.589978e+14</td>\n",
       "      <td>5642503</td>\n",
       "      <td>M</td>\n",
       "      <td>2016-04-29T16:08:27Z</td>\n",
       "      <td>2016-04-29T00:00:00Z</td>\n",
       "      <td>56</td>\n",
       "      <td>JARDIM DA PENHA</td>\n",
       "      <td>0</td>\n",
       "      <td>0</td>\n",
       "      <td>0</td>\n",
       "      <td>0</td>\n",
       "      <td>0</td>\n",
       "      <td>0</td>\n",
       "      <td>No</td>\n",
       "      <td>2016-04-29</td>\n",
       "      <td>2016-04-29 16:08:27</td>\n",
       "      <td>4</td>\n",
       "      <td>Friday</td>\n",
       "    </tr>\n",
       "  </tbody>\n",
       "</table>\n",
       "</div>"
      ],
      "text/plain": [
       "      patientid  appointmentid gender          scheduledday  \\\n",
       "0  2.987250e+13        5642903      F  2016-04-29T18:38:08Z   \n",
       "1  5.589978e+14        5642503      M  2016-04-29T16:08:27Z   \n",
       "\n",
       "         appointmentday  age    neighbourhood  scholarship  hipertension  \\\n",
       "0  2016-04-29T00:00:00Z   62  JARDIM DA PENHA            0             1   \n",
       "1  2016-04-29T00:00:00Z   56  JARDIM DA PENHA            0             0   \n",
       "\n",
       "   diabetes  alcoholism  handcap  sms_received no-show appointment_date  \\\n",
       "0         0           0        0             0      No       2016-04-29   \n",
       "1         0           0        0             0      No       2016-04-29   \n",
       "\n",
       "       scheduled_date  day days_name  \n",
       "0 2016-04-29 18:38:08    4    Friday  \n",
       "1 2016-04-29 16:08:27    4    Friday  "
      ]
     },
     "execution_count": 15,
     "metadata": {},
     "output_type": "execute_result"
    }
   ],
   "source": [
    "# changing column labels to lowercase \n",
    "med_df.columns = med_df.columns.str.lower()\n",
    "\n",
    "med_df.head(2)"
   ]
  },
  {
   "cell_type": "markdown",
   "metadata": {},
   "source": [
    ">Changing column labels to lowercase will reduce errors encountered when using these column labels due to case sensitivity of packages used"
   ]
  },
  {
   "cell_type": "code",
   "execution_count": 16,
   "metadata": {},
   "outputs": [
    {
     "data": {
      "text/html": [
       "<div>\n",
       "<style scoped>\n",
       "    .dataframe tbody tr th:only-of-type {\n",
       "        vertical-align: middle;\n",
       "    }\n",
       "\n",
       "    .dataframe tbody tr th {\n",
       "        vertical-align: top;\n",
       "    }\n",
       "\n",
       "    .dataframe thead th {\n",
       "        text-align: right;\n",
       "    }\n",
       "</style>\n",
       "<table border=\"1\" class=\"dataframe\">\n",
       "  <thead>\n",
       "    <tr style=\"text-align: right;\">\n",
       "      <th></th>\n",
       "      <th>patientid</th>\n",
       "      <th>appointmentid</th>\n",
       "      <th>gender</th>\n",
       "      <th>scheduledday</th>\n",
       "      <th>appointmentday</th>\n",
       "      <th>age</th>\n",
       "      <th>neighbourhood</th>\n",
       "      <th>scholarship</th>\n",
       "      <th>hipertension</th>\n",
       "      <th>diabetes</th>\n",
       "      <th>alcoholism</th>\n",
       "      <th>handcap</th>\n",
       "      <th>sms_received</th>\n",
       "      <th>no_show</th>\n",
       "      <th>appointment_date</th>\n",
       "      <th>scheduled_date</th>\n",
       "      <th>day</th>\n",
       "      <th>days_name</th>\n",
       "    </tr>\n",
       "  </thead>\n",
       "  <tbody>\n",
       "    <tr>\n",
       "      <th>0</th>\n",
       "      <td>2.987250e+13</td>\n",
       "      <td>5642903</td>\n",
       "      <td>F</td>\n",
       "      <td>2016-04-29T18:38:08Z</td>\n",
       "      <td>2016-04-29T00:00:00Z</td>\n",
       "      <td>62</td>\n",
       "      <td>JARDIM DA PENHA</td>\n",
       "      <td>0</td>\n",
       "      <td>1</td>\n",
       "      <td>0</td>\n",
       "      <td>0</td>\n",
       "      <td>0</td>\n",
       "      <td>0</td>\n",
       "      <td>No</td>\n",
       "      <td>2016-04-29</td>\n",
       "      <td>2016-04-29 18:38:08</td>\n",
       "      <td>4</td>\n",
       "      <td>Friday</td>\n",
       "    </tr>\n",
       "    <tr>\n",
       "      <th>1</th>\n",
       "      <td>5.589978e+14</td>\n",
       "      <td>5642503</td>\n",
       "      <td>M</td>\n",
       "      <td>2016-04-29T16:08:27Z</td>\n",
       "      <td>2016-04-29T00:00:00Z</td>\n",
       "      <td>56</td>\n",
       "      <td>JARDIM DA PENHA</td>\n",
       "      <td>0</td>\n",
       "      <td>0</td>\n",
       "      <td>0</td>\n",
       "      <td>0</td>\n",
       "      <td>0</td>\n",
       "      <td>0</td>\n",
       "      <td>No</td>\n",
       "      <td>2016-04-29</td>\n",
       "      <td>2016-04-29 16:08:27</td>\n",
       "      <td>4</td>\n",
       "      <td>Friday</td>\n",
       "    </tr>\n",
       "  </tbody>\n",
       "</table>\n",
       "</div>"
      ],
      "text/plain": [
       "      patientid  appointmentid gender          scheduledday  \\\n",
       "0  2.987250e+13        5642903      F  2016-04-29T18:38:08Z   \n",
       "1  5.589978e+14        5642503      M  2016-04-29T16:08:27Z   \n",
       "\n",
       "         appointmentday  age    neighbourhood  scholarship  hipertension  \\\n",
       "0  2016-04-29T00:00:00Z   62  JARDIM DA PENHA            0             1   \n",
       "1  2016-04-29T00:00:00Z   56  JARDIM DA PENHA            0             0   \n",
       "\n",
       "   diabetes  alcoholism  handcap  sms_received no_show appointment_date  \\\n",
       "0         0           0        0             0      No       2016-04-29   \n",
       "1         0           0        0             0      No       2016-04-29   \n",
       "\n",
       "       scheduled_date  day days_name  \n",
       "0 2016-04-29 18:38:08    4    Friday  \n",
       "1 2016-04-29 16:08:27    4    Friday  "
      ]
     },
     "execution_count": 16,
     "metadata": {},
     "output_type": "execute_result"
    }
   ],
   "source": [
    "# changing column label having hyphen to underscore\n",
    "med_df.rename({'no-show':'no_show'}, axis=1, inplace=True)\n",
    "\n",
    "med_df.head(2)"
   ]
  },
  {
   "cell_type": "code",
   "execution_count": 17,
   "metadata": {},
   "outputs": [
    {
     "data": {
      "text/html": [
       "<div>\n",
       "<style scoped>\n",
       "    .dataframe tbody tr th:only-of-type {\n",
       "        vertical-align: middle;\n",
       "    }\n",
       "\n",
       "    .dataframe tbody tr th {\n",
       "        vertical-align: top;\n",
       "    }\n",
       "\n",
       "    .dataframe thead th {\n",
       "        text-align: right;\n",
       "    }\n",
       "</style>\n",
       "<table border=\"1\" class=\"dataframe\">\n",
       "  <thead>\n",
       "    <tr style=\"text-align: right;\">\n",
       "      <th></th>\n",
       "      <th>patientid</th>\n",
       "      <th>appointmentid</th>\n",
       "      <th>gender</th>\n",
       "      <th>age</th>\n",
       "      <th>neighbourhood</th>\n",
       "      <th>scholarship</th>\n",
       "      <th>hipertension</th>\n",
       "      <th>diabetes</th>\n",
       "      <th>alcoholism</th>\n",
       "      <th>handcap</th>\n",
       "      <th>sms_received</th>\n",
       "      <th>no_show</th>\n",
       "      <th>appointment_date</th>\n",
       "      <th>scheduled_date</th>\n",
       "      <th>day</th>\n",
       "      <th>days_name</th>\n",
       "    </tr>\n",
       "  </thead>\n",
       "  <tbody>\n",
       "    <tr>\n",
       "      <th>0</th>\n",
       "      <td>2.987250e+13</td>\n",
       "      <td>5642903</td>\n",
       "      <td>F</td>\n",
       "      <td>62</td>\n",
       "      <td>JARDIM DA PENHA</td>\n",
       "      <td>0</td>\n",
       "      <td>1</td>\n",
       "      <td>0</td>\n",
       "      <td>0</td>\n",
       "      <td>0</td>\n",
       "      <td>0</td>\n",
       "      <td>No</td>\n",
       "      <td>2016-04-29</td>\n",
       "      <td>2016-04-29 18:38:08</td>\n",
       "      <td>4</td>\n",
       "      <td>Friday</td>\n",
       "    </tr>\n",
       "    <tr>\n",
       "      <th>1</th>\n",
       "      <td>5.589978e+14</td>\n",
       "      <td>5642503</td>\n",
       "      <td>M</td>\n",
       "      <td>56</td>\n",
       "      <td>JARDIM DA PENHA</td>\n",
       "      <td>0</td>\n",
       "      <td>0</td>\n",
       "      <td>0</td>\n",
       "      <td>0</td>\n",
       "      <td>0</td>\n",
       "      <td>0</td>\n",
       "      <td>No</td>\n",
       "      <td>2016-04-29</td>\n",
       "      <td>2016-04-29 16:08:27</td>\n",
       "      <td>4</td>\n",
       "      <td>Friday</td>\n",
       "    </tr>\n",
       "  </tbody>\n",
       "</table>\n",
       "</div>"
      ],
      "text/plain": [
       "      patientid  appointmentid gender  age    neighbourhood  scholarship  \\\n",
       "0  2.987250e+13        5642903      F   62  JARDIM DA PENHA            0   \n",
       "1  5.589978e+14        5642503      M   56  JARDIM DA PENHA            0   \n",
       "\n",
       "   hipertension  diabetes  alcoholism  handcap  sms_received no_show  \\\n",
       "0             1         0           0        0             0      No   \n",
       "1             0         0           0        0             0      No   \n",
       "\n",
       "  appointment_date      scheduled_date  day days_name  \n",
       "0       2016-04-29 2016-04-29 18:38:08    4    Friday  \n",
       "1       2016-04-29 2016-04-29 16:08:27    4    Friday  "
      ]
     },
     "execution_count": 17,
     "metadata": {},
     "output_type": "execute_result"
    }
   ],
   "source": [
    "# removing some columns\n",
    "def del_column(column1, column2):\n",
    "    \"\"\" To remove listed columns from dataframe \"\"\"\n",
    "    med_df.drop([column1, column2], axis=1, inplace=True)\n",
    "    \n",
    "# using del_column function to delete some columns\n",
    "del_column('scheduledday','appointmentday')\n",
    "\n",
    "med_df.head(2)"
   ]
  },
  {
   "cell_type": "markdown",
   "metadata": {},
   "source": [
    ">`scheduledday` and `appointmentday` columns were removed from the dataset because they are of datatype that is not needed,\n",
    "and new columns containing their data values with datatype needed have been created."
   ]
  },
  {
   "cell_type": "markdown",
   "metadata": {},
   "source": [
    "<a id='eda'></a>\n",
    "## Exploratory Data Analysis\n",
    "\n",
    "### Research Question 1 \n",
    "> ### What is the population distribution of patients from each neighbourhood and from which neighbourhoods are patients likely to be more?\n"
   ]
  },
  {
   "cell_type": "markdown",
   "metadata": {},
   "source": [
    "##### Population Distribution"
   ]
  },
  {
   "cell_type": "markdown",
   "metadata": {},
   "source": [
    "##### Please note:\n",
    "##### No-show column: (No or Yes). 'No' means the patient was not absent, and 'Yes' means the patient was absent."
   ]
  },
  {
   "cell_type": "code",
   "execution_count": 18,
   "metadata": {},
   "outputs": [
    {
     "data": {
      "text/plain": [
       "JARDIM CAMBURI       7717\n",
       "MARIA ORTIZ          5805\n",
       "RESISTÊNCIA          4431\n",
       "JARDIM DA PENHA      3877\n",
       "ITARARÉ              3514\n",
       "CENTRO               3334\n",
       "TABUAZEIRO           3132\n",
       "SANTA MARTHA         3131\n",
       "JESUS DE NAZARETH    2853\n",
       "BONFIM               2773\n",
       "Name: neighbourhood, dtype: int64"
      ]
     },
     "execution_count": 18,
     "metadata": {},
     "output_type": "execute_result"
    }
   ],
   "source": [
    "# population distribution of patients according to neighbourhoods\n",
    "population=med_df.neighbourhood.value_counts() \n",
    "\n",
    "# top ten most populated areas\n",
    "population.head(10)"
   ]
  },
  {
   "cell_type": "code",
   "execution_count": 19,
   "metadata": {},
   "outputs": [
    {
     "data": {
      "text/plain": [
       "UNIVERSITÁRIO                  152\n",
       "SEGURANÇA DO LAR               145\n",
       "NAZARETH                       135\n",
       "MORADA DE CAMBURI               96\n",
       "PONTAL DE CAMBURI               69\n",
       "ILHA DO BOI                     35\n",
       "ILHA DO FRADE                   10\n",
       "AEROPORTO                        8\n",
       "ILHAS OCEÂNICAS DE TRINDADE      2\n",
       "PARQUE INDUSTRIAL                1\n",
       "Name: neighbourhood, dtype: int64"
      ]
     },
     "execution_count": 19,
     "metadata": {},
     "output_type": "execute_result"
    }
   ],
   "source": [
    "# ten neighbourhoods with least patients\n",
    "population.tail(10)"
   ]
  },
  {
   "cell_type": "markdown",
   "metadata": {},
   "source": [
    "##### Visualization of Neighbourhoods and their Population"
   ]
  },
  {
   "cell_type": "code",
   "execution_count": 20,
   "metadata": {},
   "outputs": [],
   "source": [
    "# function for barchart\n",
    "def subplots_bar(arr1, title1, xlabel1, ylabel1, xticklabels1, color1, arr2, title2, xlabel2, ylabel2, xticklabels2, color2):\n",
    "    \"\"\" this function will plot two barcharts of equal sizes.\n",
    "    Also, this function requires 12 arguments.\n",
    "    \n",
    "    arr1 = first numeric column of a dataframe\n",
    "    title1 = first barchat title\n",
    "    xlabel1 = first barchart xlabel\n",
    "    ylabel1 = first barchart ylabel\n",
    "    xticklabels1 = first barchart xticklabels\n",
    "    color1 = first barchart color\n",
    "    arr2= second numeric column of a dataframe\n",
    "    title2 = second barchart title\n",
    "    xlabel2 = second barchart xlabel\n",
    "    ylabel2 = second barchart ylabel\n",
    "    xticklabels2 = second barchart xticklabels\n",
    "    color2 = second barchart color    \n",
    "    \"\"\"\n",
    "    fig, axes = plt.subplots(nrows =1, ncols=2, figsize=(15,6))\n",
    "    \n",
    "    arr1.plot(ax=axes[0], kind='bar', color=color1, alpha =.7, fontsize=11)\n",
    "    axes[0].set_title(title1, fontsize=13)\n",
    "    axes[0].set_xlabel(xlabel1, fontsize=15)\n",
    "    axes[0].set_ylabel(ylabel1, fontsize=15)\n",
    "    axes[0].set_xticklabels(xticklabels1, rotation = 60, ha ='right')\n",
    "    axes[0].legend()\n",
    "    \n",
    "    arr2.plot(ax=axes[1], kind='bar', color=color2, alpha=.7, fontsize=11)\n",
    "    axes[1].set_title(title2, fontsize=13)\n",
    "    axes[1].set_xlabel(xlabel2, fontsize=15)\n",
    "    axes[1].set_ylabel(ylabel2, fontsize=15)\n",
    "    axes[1].set_xticklabels(xticklabels2, rotation=60, ha='right')\n",
    "    axes[1].legend()"
   ]
  },
  {
   "cell_type": "code",
   "execution_count": 21,
   "metadata": {},
   "outputs": [
    {
     "data": {
      "image/png": "[encoded data removed]",
      "text/plain": [
       "<matplotlib.figure.Figure at 0x7fb8493440f0>"
      ]
     },
     "metadata": {
      "needs_background": "light"
     },
     "output_type": "display_data"
    }
   ],
   "source": [
    "# Visual analyses of neighbourhoods population\n",
    "subplots_bar(population.head(10),'Neighbourhoods with Highest Population','Neighbourhoods',\n",
    "            'Number of Patients',population.head(10).index,'midnightblue',population.tail(10),\n",
    "            'Neighbourhoods with Least Population','Neighbourhoods','Number of Patients',\n",
    "            population.tail(10).index, 'darkred')"
   ]
  },
  {
   "cell_type": "markdown",
   "metadata": {},
   "source": [
    ">It is evident from the analyses and the resultant visuals that `Jardim Camburi` neighbourhood with 7717 patients is the neighbourhood with highest population. \n",
    "`Parque Industrial` neighbourhood with 1 patient is the neighbourhood with least population. These analyses have shown that health workers should expect more patients from the ten neighbourhoods with highest number of patients."
   ]
  },
  {
   "cell_type": "markdown",
   "metadata": {},
   "source": [
    "### Research Question 2  \n",
    ">#### Considering male and female genders in the dataset, which gender would likely show up more on scheduled day and are younger patients likely to be more than older patients on scheduled day"
   ]
  },
  {
   "cell_type": "code",
   "execution_count": 22,
   "metadata": {},
   "outputs": [
    {
     "data": {
      "text/plain": [
       "38687"
      ]
     },
     "execution_count": 22,
     "metadata": {},
     "output_type": "execute_result"
    }
   ],
   "source": [
    "# filtering male population from the dataset\n",
    "male = med_df.query('gender == \"M\"')\n",
    "male_gender = male['gender'].count()\n",
    "male_gender"
   ]
  },
  {
   "cell_type": "code",
   "execution_count": 23,
   "metadata": {},
   "outputs": [
    {
     "data": {
      "text/plain": [
       "71840"
      ]
     },
     "execution_count": 23,
     "metadata": {},
     "output_type": "execute_result"
    }
   ],
   "source": [
    "# filtering female population from the dataset\n",
    "female = med_df.query('gender == \"F\"')\n",
    "female_gender = female['gender'].count()\n",
    "female_gender"
   ]
  },
  {
   "cell_type": "code",
   "execution_count": 24,
   "metadata": {},
   "outputs": [
    {
     "data": {
      "image/png": "[encoded data removed]",
      "text/plain": [
       "<matplotlib.figure.Figure at 0x7fb847b4abe0>"
      ]
     },
     "metadata": {},
     "output_type": "display_data"
    }
   ],
   "source": [
    "# visualization of male and female poulation\n",
    "gender = [male_gender, female_gender]\n",
    "plt.figure(figsize=(8,6))\n",
    "label = ['Male', 'Female']\n",
    "plt.title('Gender Distribution', size =15)\n",
    "color = sns.color_palette('cubehelix')\n",
    "explode = [0.1, 0]\n",
    "plt.pie(gender, labels = label, explode=explode,\n",
    "        colors = color, autopct='%.1f%%', shadow = True,  textprops={'fontsize': 16, 'color':'orange'})\n",
    "plt.legend()\n",
    "plt.show()"
   ]
  },
  {
   "cell_type": "markdown",
   "metadata": {},
   "source": [
    ">Female population comprises 65% of the entire population, while male population comprises 35% of the entire population.\n",
    "This can be reworded as female population is almost twice the population of male. With this insight, female patients are expected to be more than male patients on scheduled day."
   ]
  },
  {
   "cell_type": "markdown",
   "metadata": {},
   "source": [
    "##### Genders on Scheduled Day"
   ]
  },
  {
   "cell_type": "code",
   "execution_count": 25,
   "metadata": {},
   "outputs": [
    {
     "data": {
      "text/html": [
       "<div>\n",
       "<style scoped>\n",
       "    .dataframe tbody tr th:only-of-type {\n",
       "        vertical-align: middle;\n",
       "    }\n",
       "\n",
       "    .dataframe tbody tr th {\n",
       "        vertical-align: top;\n",
       "    }\n",
       "\n",
       "    .dataframe thead th {\n",
       "        text-align: right;\n",
       "    }\n",
       "</style>\n",
       "<table border=\"1\" class=\"dataframe\">\n",
       "  <thead>\n",
       "    <tr style=\"text-align: right;\">\n",
       "      <th></th>\n",
       "      <th>male</th>\n",
       "    </tr>\n",
       "  </thead>\n",
       "  <tbody>\n",
       "    <tr>\n",
       "      <th>JARDIM CAMBURI</th>\n",
       "      <td>2105</td>\n",
       "    </tr>\n",
       "    <tr>\n",
       "      <th>MARIA ORTIZ</th>\n",
       "      <td>1645</td>\n",
       "    </tr>\n",
       "    <tr>\n",
       "      <th>RESISTÊNCIA</th>\n",
       "      <td>1182</td>\n",
       "    </tr>\n",
       "    <tr>\n",
       "      <th>CENTRO</th>\n",
       "      <td>1059</td>\n",
       "    </tr>\n",
       "    <tr>\n",
       "      <th>JARDIM DA PENHA</th>\n",
       "      <td>995</td>\n",
       "    </tr>\n",
       "    <tr>\n",
       "      <th>SANTA MARTHA</th>\n",
       "      <td>954</td>\n",
       "    </tr>\n",
       "    <tr>\n",
       "      <th>ITARARÉ</th>\n",
       "      <td>929</td>\n",
       "    </tr>\n",
       "    <tr>\n",
       "      <th>TABUAZEIRO</th>\n",
       "      <td>908</td>\n",
       "    </tr>\n",
       "    <tr>\n",
       "      <th>BONFIM</th>\n",
       "      <td>862</td>\n",
       "    </tr>\n",
       "    <tr>\n",
       "      <th>JESUS DE NAZARETH</th>\n",
       "      <td>788</td>\n",
       "    </tr>\n",
       "  </tbody>\n",
       "</table>\n",
       "</div>"
      ],
      "text/plain": [
       "                   male\n",
       "JARDIM CAMBURI     2105\n",
       "MARIA ORTIZ        1645\n",
       "RESISTÊNCIA        1182\n",
       "CENTRO             1059\n",
       "JARDIM DA PENHA     995\n",
       "SANTA MARTHA        954\n",
       "ITARARÉ             929\n",
       "TABUAZEIRO          908\n",
       "BONFIM              862\n",
       "JESUS DE NAZARETH   788"
      ]
     },
     "execution_count": 25,
     "metadata": {},
     "output_type": "execute_result"
    }
   ],
   "source": [
    "# male patients honouring medical appointment according to neighbourhood\n",
    "male_shown = med_df[(med_df.gender=='M') & (med_df.no_show=='No')].neighbourhood\n",
    "\n",
    "# creating dataframe for ten most populated neighbourhoods with male patients\n",
    "male_shown = male_shown.value_counts().head(10).to_frame()\n",
    "\n",
    "# renaming dataframe column\n",
    "male_shown.rename(columns = {'neighbourhood':'male'}, inplace=True)\n",
    "male_shown"
   ]
  },
  {
   "cell_type": "code",
   "execution_count": 26,
   "metadata": {},
   "outputs": [
    {
     "data": {
      "text/html": [
       "<div>\n",
       "<style scoped>\n",
       "    .dataframe tbody tr th:only-of-type {\n",
       "        vertical-align: middle;\n",
       "    }\n",
       "\n",
       "    .dataframe tbody tr th {\n",
       "        vertical-align: top;\n",
       "    }\n",
       "\n",
       "    .dataframe thead th {\n",
       "        text-align: right;\n",
       "    }\n",
       "</style>\n",
       "<table border=\"1\" class=\"dataframe\">\n",
       "  <thead>\n",
       "    <tr style=\"text-align: right;\">\n",
       "      <th></th>\n",
       "      <th>female</th>\n",
       "    </tr>\n",
       "  </thead>\n",
       "  <tbody>\n",
       "    <tr>\n",
       "      <th>JARDIM CAMBURI</th>\n",
       "      <td>4147</td>\n",
       "    </tr>\n",
       "    <tr>\n",
       "      <th>MARIA ORTIZ</th>\n",
       "      <td>2941</td>\n",
       "    </tr>\n",
       "    <tr>\n",
       "      <th>RESISTÊNCIA</th>\n",
       "      <td>2343</td>\n",
       "    </tr>\n",
       "    <tr>\n",
       "      <th>JARDIM DA PENHA</th>\n",
       "      <td>2251</td>\n",
       "    </tr>\n",
       "    <tr>\n",
       "      <th>SANTA MARTHA</th>\n",
       "      <td>1681</td>\n",
       "    </tr>\n",
       "    <tr>\n",
       "      <th>ITARARÉ</th>\n",
       "      <td>1662</td>\n",
       "    </tr>\n",
       "    <tr>\n",
       "      <th>TABUAZEIRO</th>\n",
       "      <td>1651</td>\n",
       "    </tr>\n",
       "    <tr>\n",
       "      <th>CENTRO</th>\n",
       "      <td>1572</td>\n",
       "    </tr>\n",
       "    <tr>\n",
       "      <th>SANTO ANTÔNIO</th>\n",
       "      <td>1503</td>\n",
       "    </tr>\n",
       "    <tr>\n",
       "      <th>JESUS DE NAZARETH</th>\n",
       "      <td>1369</td>\n",
       "    </tr>\n",
       "  </tbody>\n",
       "</table>\n",
       "</div>"
      ],
      "text/plain": [
       "                   female\n",
       "JARDIM CAMBURI       4147\n",
       "MARIA ORTIZ          2941\n",
       "RESISTÊNCIA          2343\n",
       "JARDIM DA PENHA      2251\n",
       "SANTA MARTHA         1681\n",
       "ITARARÉ              1662\n",
       "TABUAZEIRO           1651\n",
       "CENTRO               1572\n",
       "SANTO ANTÔNIO        1503\n",
       "JESUS DE NAZARETH    1369"
      ]
     },
     "execution_count": 26,
     "metadata": {},
     "output_type": "execute_result"
    }
   ],
   "source": [
    "# female patients honouring medical appointment according to neighbourhood\n",
    "female_shown = med_df[(med_df.gender == 'F') & (med_df.no_show == 'No')].neighbourhood\n",
    "\n",
    "# creating dataframe for ten most populated neighbourhoods with female patients\n",
    "female_shown = female_shown.value_counts().head(10).to_frame()\n",
    "\n",
    "# renaming dataframe column\n",
    "female_shown.rename(columns = {'neighbourhood':'female'}, inplace = True)\n",
    "female_shown"
   ]
  },
  {
   "cell_type": "code",
   "execution_count": 27,
   "metadata": {},
   "outputs": [
    {
     "data": {
      "text/html": [
       "<div>\n",
       "<style scoped>\n",
       "    .dataframe tbody tr th:only-of-type {\n",
       "        vertical-align: middle;\n",
       "    }\n",
       "\n",
       "    .dataframe tbody tr th {\n",
       "        vertical-align: top;\n",
       "    }\n",
       "\n",
       "    .dataframe thead th {\n",
       "        text-align: right;\n",
       "    }\n",
       "</style>\n",
       "<table border=\"1\" class=\"dataframe\">\n",
       "  <thead>\n",
       "    <tr style=\"text-align: right;\">\n",
       "      <th></th>\n",
       "      <th>male</th>\n",
       "      <th>female</th>\n",
       "    </tr>\n",
       "  </thead>\n",
       "  <tbody>\n",
       "    <tr>\n",
       "      <th>JARDIM CAMBURI</th>\n",
       "      <td>2105.0</td>\n",
       "      <td>4147.0</td>\n",
       "    </tr>\n",
       "    <tr>\n",
       "      <th>MARIA ORTIZ</th>\n",
       "      <td>1645.0</td>\n",
       "      <td>2941.0</td>\n",
       "    </tr>\n",
       "    <tr>\n",
       "      <th>RESISTÊNCIA</th>\n",
       "      <td>1182.0</td>\n",
       "      <td>2343.0</td>\n",
       "    </tr>\n",
       "    <tr>\n",
       "      <th>CENTRO</th>\n",
       "      <td>1059.0</td>\n",
       "      <td>1572.0</td>\n",
       "    </tr>\n",
       "    <tr>\n",
       "      <th>JARDIM DA PENHA</th>\n",
       "      <td>995.0</td>\n",
       "      <td>2251.0</td>\n",
       "    </tr>\n",
       "    <tr>\n",
       "      <th>SANTA MARTHA</th>\n",
       "      <td>954.0</td>\n",
       "      <td>1681.0</td>\n",
       "    </tr>\n",
       "    <tr>\n",
       "      <th>ITARARÉ</th>\n",
       "      <td>929.0</td>\n",
       "      <td>1662.0</td>\n",
       "    </tr>\n",
       "    <tr>\n",
       "      <th>TABUAZEIRO</th>\n",
       "      <td>908.0</td>\n",
       "      <td>1651.0</td>\n",
       "    </tr>\n",
       "    <tr>\n",
       "      <th>JESUS DE NAZARETH</th>\n",
       "      <td>788.0</td>\n",
       "      <td>1369.0</td>\n",
       "    </tr>\n",
       "  </tbody>\n",
       "</table>\n",
       "</div>"
      ],
      "text/plain": [
       "                     male  female\n",
       "JARDIM CAMBURI     2105.0  4147.0\n",
       "MARIA ORTIZ        1645.0  2941.0\n",
       "RESISTÊNCIA        1182.0  2343.0\n",
       "CENTRO             1059.0  1572.0\n",
       "JARDIM DA PENHA     995.0  2251.0\n",
       "SANTA MARTHA        954.0  1681.0\n",
       "ITARARÉ             929.0  1662.0\n",
       "TABUAZEIRO          908.0  1651.0\n",
       "JESUS DE NAZARETH   788.0  1369.0"
      ]
     },
     "execution_count": 27,
     "metadata": {},
     "output_type": "execute_result"
    }
   ],
   "source": [
    "# combining male and female dataframes\n",
    "male_female = pd.concat([male_shown, female_shown], axis=1, sort=False)\n",
    "\n",
    "# removing rows with null value\n",
    "male_female.dropna(inplace=True)\n",
    "male_female"
   ]
  },
  {
   "cell_type": "markdown",
   "metadata": {},
   "source": [
    ">Rows with null value were droped because they will affect the expected comparism between male and female patients in the visualization"
   ]
  },
  {
   "cell_type": "code",
   "execution_count": 28,
   "metadata": {},
   "outputs": [
    {
     "data": {
      "text/html": [
       "<div>\n",
       "<style scoped>\n",
       "    .dataframe tbody tr th:only-of-type {\n",
       "        vertical-align: middle;\n",
       "    }\n",
       "\n",
       "    .dataframe tbody tr th {\n",
       "        vertical-align: top;\n",
       "    }\n",
       "\n",
       "    .dataframe thead th {\n",
       "        text-align: right;\n",
       "    }\n",
       "</style>\n",
       "<table border=\"1\" class=\"dataframe\">\n",
       "  <thead>\n",
       "    <tr style=\"text-align: right;\">\n",
       "      <th></th>\n",
       "      <th>male</th>\n",
       "      <th>female</th>\n",
       "      <th>area</th>\n",
       "    </tr>\n",
       "  </thead>\n",
       "  <tbody>\n",
       "    <tr>\n",
       "      <th>JARDIM CAMBURI</th>\n",
       "      <td>2105.0</td>\n",
       "      <td>4147.0</td>\n",
       "      <td>JARDIM CAMBURI</td>\n",
       "    </tr>\n",
       "    <tr>\n",
       "      <th>MARIA ORTIZ</th>\n",
       "      <td>1645.0</td>\n",
       "      <td>2941.0</td>\n",
       "      <td>MARIA ORTIZ</td>\n",
       "    </tr>\n",
       "    <tr>\n",
       "      <th>RESISTÊNCIA</th>\n",
       "      <td>1182.0</td>\n",
       "      <td>2343.0</td>\n",
       "      <td>RESISTÊNCIA</td>\n",
       "    </tr>\n",
       "    <tr>\n",
       "      <th>CENTRO</th>\n",
       "      <td>1059.0</td>\n",
       "      <td>1572.0</td>\n",
       "      <td>CENTRO</td>\n",
       "    </tr>\n",
       "    <tr>\n",
       "      <th>JARDIM DA PENHA</th>\n",
       "      <td>995.0</td>\n",
       "      <td>2251.0</td>\n",
       "      <td>JARDIM DA PENHA</td>\n",
       "    </tr>\n",
       "    <tr>\n",
       "      <th>SANTA MARTHA</th>\n",
       "      <td>954.0</td>\n",
       "      <td>1681.0</td>\n",
       "      <td>SANTA MARTHA</td>\n",
       "    </tr>\n",
       "    <tr>\n",
       "      <th>ITARARÉ</th>\n",
       "      <td>929.0</td>\n",
       "      <td>1662.0</td>\n",
       "      <td>ITARARÉ</td>\n",
       "    </tr>\n",
       "    <tr>\n",
       "      <th>TABUAZEIRO</th>\n",
       "      <td>908.0</td>\n",
       "      <td>1651.0</td>\n",
       "      <td>TABUAZEIRO</td>\n",
       "    </tr>\n",
       "    <tr>\n",
       "      <th>JESUS DE NAZARETH</th>\n",
       "      <td>788.0</td>\n",
       "      <td>1369.0</td>\n",
       "      <td>JESUS DE NAZARETH</td>\n",
       "    </tr>\n",
       "  </tbody>\n",
       "</table>\n",
       "</div>"
      ],
      "text/plain": [
       "                     male  female               area\n",
       "JARDIM CAMBURI     2105.0  4147.0     JARDIM CAMBURI\n",
       "MARIA ORTIZ        1645.0  2941.0        MARIA ORTIZ\n",
       "RESISTÊNCIA        1182.0  2343.0        RESISTÊNCIA\n",
       "CENTRO             1059.0  1572.0             CENTRO\n",
       "JARDIM DA PENHA     995.0  2251.0    JARDIM DA PENHA\n",
       "SANTA MARTHA        954.0  1681.0       SANTA MARTHA\n",
       "ITARARÉ             929.0  1662.0            ITARARÉ\n",
       "TABUAZEIRO          908.0  1651.0         TABUAZEIRO\n",
       "JESUS DE NAZARETH   788.0  1369.0  JESUS DE NAZARETH"
      ]
     },
     "execution_count": 28,
     "metadata": {},
     "output_type": "execute_result"
    }
   ],
   "source": [
    "male_female['area'] = male_female.index\n",
    "male_female"
   ]
  },
  {
   "cell_type": "code",
   "execution_count": 29,
   "metadata": {},
   "outputs": [
    {
     "data": {
      "image/png": "[encoded data removed]",
      "text/plain": [
       "<matplotlib.figure.Figure at 0x7fb847b4a3c8>"
      ]
     },
     "metadata": {
      "needs_background": "light"
     },
     "output_type": "display_data"
    }
   ],
   "source": [
    "# Visual analyses of male to female population in the neighbourhoods\n",
    "subplots_bar(male_female.male,'Male Patients Population','Neighbourhoods',\n",
    "            'Male Population',male_female.area,'darkcyan',male_female.female,\n",
    "            'Female Patients Population','Neighbourhoods','Female Population',\n",
    "            male_female.area, 'brown')"
   ]
  },
  {
   "cell_type": "markdown",
   "metadata": {},
   "source": [
    ">Female population is twice the population of male in most of the neighbourhoods. This means that more females are expected to be seen on scheduled day"
   ]
  },
  {
   "cell_type": "code",
   "execution_count": 30,
   "metadata": {},
   "outputs": [
    {
     "data": {
      "image/png": "[encoded data removed]",
      "text/plain": [
       "<matplotlib.figure.Figure at 0x7fb8480b2be0>"
      ]
     },
     "metadata": {
      "needs_background": "light"
     },
     "output_type": "display_data"
    }
   ],
   "source": [
    "# relationship between male and female population\n",
    "x= male_female.male\n",
    "y= male_female.female\n",
    "plt.title(\"Relationship between Male and Female\\n Patients Present on Scheduled Day\")\n",
    "plt.xlabel(\"Male Number\")\n",
    "plt.ylabel(\"Female Number\")\n",
    "\n",
    "plt.plot(x, y)\n",
    "\n",
    "plt.grid(axis = 'y')\n",
    "\n",
    "plt.show()"
   ]
  },
  {
   "cell_type": "markdown",
   "metadata": {},
   "source": [
    "The line chart shows there is positive relationship between male population and female population on scheduled day. As the male population increases, so also the female population. However, female population is twice the population of male. This implies that there is likelyhood of having more female patients on scheduled day "
   ]
  },
  {
   "cell_type": "markdown",
   "metadata": {},
   "source": [
    "###### Possibility of young patients population to be greater than adult population"
   ]
  },
  {
   "cell_type": "code",
   "execution_count": 31,
   "metadata": {},
   "outputs": [
    {
     "data": {
      "text/plain": [
       "37.088874211731067"
      ]
     },
     "execution_count": 31,
     "metadata": {},
     "output_type": "execute_result"
    }
   ],
   "source": [
    "# average age of patients\n",
    "average_age = med_df.age.mean()\n",
    "average_age"
   ]
  },
  {
   "cell_type": "code",
   "execution_count": 32,
   "metadata": {},
   "outputs": [
    {
     "data": {
      "text/plain": [
       "43356"
      ]
     },
     "execution_count": 32,
     "metadata": {},
     "output_type": "execute_result"
    }
   ],
   "source": [
    "# population of patients that are equal or less than 37 years\n",
    "younger = med_df[(med_df.age <= 37) & (med_df.no_show == 'No')].age.count()\n",
    "younger"
   ]
  },
  {
   "cell_type": "code",
   "execution_count": 33,
   "metadata": {},
   "outputs": [
    {
     "data": {
      "text/plain": [
       "44852"
      ]
     },
     "execution_count": 33,
     "metadata": {},
     "output_type": "execute_result"
    }
   ],
   "source": [
    "# population of patients that are greater than 37 years\n",
    "adult = med_df[(med_df.age > 37) & (med_df.no_show == 'No')].age.count()\n",
    "adult"
   ]
  },
  {
   "cell_type": "code",
   "execution_count": 34,
   "metadata": {},
   "outputs": [
    {
     "data": {
      "image/png": "[encoded data removed]",
      "text/plain": [
       "<matplotlib.figure.Figure at 0x7fb83f7aea20>"
      ]
     },
     "metadata": {},
     "output_type": "display_data"
    }
   ],
   "source": [
    "# visualization of young and adult poulation\n",
    "age = [younger, adult]\n",
    "plt.figure(figsize=(8,4))\n",
    "label = ['Young', 'Adult']\n",
    "plt.title('Age Distribution', size =18)\n",
    "color = sns.color_palette('Set1')\n",
    "explode = [0.1, 0]\n",
    "plt.pie(age, labels = label, explode=explode,\n",
    "        colors = color, autopct='%.1f%%', shadow = True,  textprops={'fontsize': 14, 'color':'black'})\n",
    "plt.legend()\n",
    "plt.show()"
   ]
  },
  {
   "cell_type": "markdown",
   "metadata": {},
   "source": [
    "Adult population is slightly higher than young population. This implies that there will be more adults on scheduled day than younger people."
   ]
  },
  {
   "cell_type": "markdown",
   "metadata": {},
   "source": [
    "### Research Question 3  \n",
    "\n",
    ">#### Which of the weekdays are patients most likely to be present?"
   ]
  },
  {
   "cell_type": "markdown",
   "metadata": {},
   "source": [
    "##### Presence of Genders in Weekdays"
   ]
  },
  {
   "cell_type": "code",
   "execution_count": 35,
   "metadata": {
    "scrolled": true
   },
   "outputs": [
    {
     "data": {
      "text/html": [
       "<div>\n",
       "<style scoped>\n",
       "    .dataframe tbody tr th:only-of-type {\n",
       "        vertical-align: middle;\n",
       "    }\n",
       "\n",
       "    .dataframe tbody tr th {\n",
       "        vertical-align: top;\n",
       "    }\n",
       "\n",
       "    .dataframe thead th {\n",
       "        text-align: right;\n",
       "    }\n",
       "</style>\n",
       "<table border=\"1\" class=\"dataframe\">\n",
       "  <thead>\n",
       "    <tr style=\"text-align: right;\">\n",
       "      <th></th>\n",
       "      <th>male_number</th>\n",
       "    </tr>\n",
       "  </thead>\n",
       "  <tbody>\n",
       "    <tr>\n",
       "      <th>Tuesday</th>\n",
       "      <td>7192</td>\n",
       "    </tr>\n",
       "    <tr>\n",
       "      <th>Wednesday</th>\n",
       "      <td>6696</td>\n",
       "    </tr>\n",
       "    <tr>\n",
       "      <th>Monday</th>\n",
       "      <td>6656</td>\n",
       "    </tr>\n",
       "    <tr>\n",
       "      <th>Friday</th>\n",
       "      <td>5377</td>\n",
       "    </tr>\n",
       "    <tr>\n",
       "      <th>Thursday</th>\n",
       "      <td>5035</td>\n",
       "    </tr>\n",
       "    <tr>\n",
       "      <th>Saturday</th>\n",
       "      <td>6</td>\n",
       "    </tr>\n",
       "  </tbody>\n",
       "</table>\n",
       "</div>"
      ],
      "text/plain": [
       "           male_number\n",
       "Tuesday           7192\n",
       "Wednesday         6696\n",
       "Monday            6656\n",
       "Friday            5377\n",
       "Thursday          5035\n",
       "Saturday             6"
      ]
     },
     "execution_count": 35,
     "metadata": {},
     "output_type": "execute_result"
    }
   ],
   "source": [
    "# Number of male patients that are present on appointment day\n",
    "male_present = med_df[(med_df.gender == 'M') & (med_df.no_show == 'No')].days_name\n",
    "\n",
    "# counting and sorting of male patients and days they were present\n",
    "male_day = male_present.value_counts().sort_values(ascending = False).to_frame()\n",
    "\n",
    "# renaming days_name column to male_number\n",
    "male_day.rename(columns={'days_name':'male_number'}, inplace=True)\n",
    "male_day"
   ]
  },
  {
   "cell_type": "code",
   "execution_count": 36,
   "metadata": {},
   "outputs": [
    {
     "data": {
      "text/html": [
       "<div>\n",
       "<style scoped>\n",
       "    .dataframe tbody tr th:only-of-type {\n",
       "        vertical-align: middle;\n",
       "    }\n",
       "\n",
       "    .dataframe tbody tr th {\n",
       "        vertical-align: top;\n",
       "    }\n",
       "\n",
       "    .dataframe thead th {\n",
       "        text-align: right;\n",
       "    }\n",
       "</style>\n",
       "<table border=\"1\" class=\"dataframe\">\n",
       "  <thead>\n",
       "    <tr style=\"text-align: right;\">\n",
       "      <th></th>\n",
       "      <th>female_number</th>\n",
       "    </tr>\n",
       "  </thead>\n",
       "  <tbody>\n",
       "    <tr>\n",
       "      <th>Tuesday</th>\n",
       "      <td>13685</td>\n",
       "    </tr>\n",
       "    <tr>\n",
       "      <th>Wednesday</th>\n",
       "      <td>12687</td>\n",
       "    </tr>\n",
       "    <tr>\n",
       "      <th>Monday</th>\n",
       "      <td>11868</td>\n",
       "    </tr>\n",
       "    <tr>\n",
       "      <th>Friday</th>\n",
       "      <td>9651</td>\n",
       "    </tr>\n",
       "    <tr>\n",
       "      <th>Thursday</th>\n",
       "      <td>9338</td>\n",
       "    </tr>\n",
       "    <tr>\n",
       "      <th>Saturday</th>\n",
       "      <td>17</td>\n",
       "    </tr>\n",
       "  </tbody>\n",
       "</table>\n",
       "</div>"
      ],
      "text/plain": [
       "           female_number\n",
       "Tuesday            13685\n",
       "Wednesday          12687\n",
       "Monday             11868\n",
       "Friday              9651\n",
       "Thursday            9338\n",
       "Saturday              17"
      ]
     },
     "execution_count": 36,
     "metadata": {},
     "output_type": "execute_result"
    }
   ],
   "source": [
    "# Number of male patients that are present on appointment day\n",
    "female_present = med_df[(med_df.gender == 'F') & (med_df.no_show == 'No')].days_name\n",
    "\n",
    "# counting and sorting female numbers on weekdays\n",
    "female_day = female_present.value_counts().sort_values(ascending = False).to_frame()\n",
    "\n",
    "# changing column's name\n",
    "female_day.rename(columns={'days_name':'female_number'}, inplace=True) \n",
    "female_day"
   ]
  },
  {
   "cell_type": "code",
   "execution_count": 37,
   "metadata": {},
   "outputs": [
    {
     "data": {
      "text/html": [
       "<div>\n",
       "<style scoped>\n",
       "    .dataframe tbody tr th:only-of-type {\n",
       "        vertical-align: middle;\n",
       "    }\n",
       "\n",
       "    .dataframe tbody tr th {\n",
       "        vertical-align: top;\n",
       "    }\n",
       "\n",
       "    .dataframe thead th {\n",
       "        text-align: right;\n",
       "    }\n",
       "</style>\n",
       "<table border=\"1\" class=\"dataframe\">\n",
       "  <thead>\n",
       "    <tr style=\"text-align: right;\">\n",
       "      <th></th>\n",
       "      <th>male</th>\n",
       "      <th>female</th>\n",
       "      <th>area</th>\n",
       "    </tr>\n",
       "  </thead>\n",
       "  <tbody>\n",
       "    <tr>\n",
       "      <th>JARDIM CAMBURI</th>\n",
       "      <td>2105.0</td>\n",
       "      <td>4147.0</td>\n",
       "      <td>JARDIM CAMBURI</td>\n",
       "    </tr>\n",
       "    <tr>\n",
       "      <th>MARIA ORTIZ</th>\n",
       "      <td>1645.0</td>\n",
       "      <td>2941.0</td>\n",
       "      <td>MARIA ORTIZ</td>\n",
       "    </tr>\n",
       "    <tr>\n",
       "      <th>RESISTÊNCIA</th>\n",
       "      <td>1182.0</td>\n",
       "      <td>2343.0</td>\n",
       "      <td>RESISTÊNCIA</td>\n",
       "    </tr>\n",
       "    <tr>\n",
       "      <th>CENTRO</th>\n",
       "      <td>1059.0</td>\n",
       "      <td>1572.0</td>\n",
       "      <td>CENTRO</td>\n",
       "    </tr>\n",
       "    <tr>\n",
       "      <th>JARDIM DA PENHA</th>\n",
       "      <td>995.0</td>\n",
       "      <td>2251.0</td>\n",
       "      <td>JARDIM DA PENHA</td>\n",
       "    </tr>\n",
       "    <tr>\n",
       "      <th>SANTA MARTHA</th>\n",
       "      <td>954.0</td>\n",
       "      <td>1681.0</td>\n",
       "      <td>SANTA MARTHA</td>\n",
       "    </tr>\n",
       "    <tr>\n",
       "      <th>ITARARÉ</th>\n",
       "      <td>929.0</td>\n",
       "      <td>1662.0</td>\n",
       "      <td>ITARARÉ</td>\n",
       "    </tr>\n",
       "    <tr>\n",
       "      <th>TABUAZEIRO</th>\n",
       "      <td>908.0</td>\n",
       "      <td>1651.0</td>\n",
       "      <td>TABUAZEIRO</td>\n",
       "    </tr>\n",
       "    <tr>\n",
       "      <th>JESUS DE NAZARETH</th>\n",
       "      <td>788.0</td>\n",
       "      <td>1369.0</td>\n",
       "      <td>JESUS DE NAZARETH</td>\n",
       "    </tr>\n",
       "  </tbody>\n",
       "</table>\n",
       "</div>"
      ],
      "text/plain": [
       "                     male  female               area\n",
       "JARDIM CAMBURI     2105.0  4147.0     JARDIM CAMBURI\n",
       "MARIA ORTIZ        1645.0  2941.0        MARIA ORTIZ\n",
       "RESISTÊNCIA        1182.0  2343.0        RESISTÊNCIA\n",
       "CENTRO             1059.0  1572.0             CENTRO\n",
       "JARDIM DA PENHA     995.0  2251.0    JARDIM DA PENHA\n",
       "SANTA MARTHA        954.0  1681.0       SANTA MARTHA\n",
       "ITARARÉ             929.0  1662.0            ITARARÉ\n",
       "TABUAZEIRO          908.0  1651.0         TABUAZEIRO\n",
       "JESUS DE NAZARETH   788.0  1369.0  JESUS DE NAZARETH"
      ]
     },
     "execution_count": 37,
     "metadata": {},
     "output_type": "execute_result"
    }
   ],
   "source": [
    "# combining male_df and female_df dataframes\n",
    "male_female_df = pd.concat([male_day,female_day], axis=1)  \n",
    "male_female"
   ]
  },
  {
   "cell_type": "code",
   "execution_count": 38,
   "metadata": {},
   "outputs": [
    {
     "data": {
      "image/png": "[encoded data removed]",
      "text/plain": [
       "<matplotlib.figure.Figure at 0x7fb83f78aba8>"
      ]
     },
     "metadata": {
      "needs_background": "light"
     },
     "output_type": "display_data"
    }
   ],
   "source": [
    "# Visual analyses of male  and female population on weekdays\n",
    "subplots_bar(male_female_df.male_number, 'Male Patients', 'Weekdays', 'Male Population',\n",
    "            male_female_df.index, 'darkred', male_female_df.female_number, 'Female Patients',\n",
    "            'Weekdays', 'Female Population', male_female_df.index, 'darkgreen')"
   ]
  },
  {
   "cell_type": "markdown",
   "metadata": {},
   "source": [
    ">Tuesdays are the days most likely to have highest number of patients in the week. The number would likely drop on Wednesdays, Mondays, and maintain the downward trend on Fridays, Thursdays, and expect a very low number of patients on Saturdays. Sundays are not captured in the dataset or scheduled day is not fixed on that day."
   ]
  },
  {
   "cell_type": "markdown",
   "metadata": {},
   "source": [
    "### Research Question 4  \n",
    ">#### Are patients captured in welfare program (scholarship) more than those not captured and are patients that received sms-message be more than those that did not on scheduled day?"
   ]
  },
  {
   "cell_type": "markdown",
   "metadata": {},
   "source": [
    "##### Patients classification in Relation to welfare program"
   ]
  },
  {
   "cell_type": "code",
   "execution_count": 39,
   "metadata": {},
   "outputs": [
    {
     "data": {
      "text/plain": [
       "76218"
      ]
     },
     "execution_count": 39,
     "metadata": {},
     "output_type": "execute_result"
    }
   ],
   "source": [
    "# patients not captured in welfare program (scholarship)\n",
    "not_scholar = med_df[(med_df.scholarship == 0) & (med_df.no_show == 'No')].scheduled_date\n",
    "\n",
    "# to count their numbers\n",
    "not_scholar= not_scholar.value_counts()\n",
    "not_scholar.count()"
   ]
  },
  {
   "cell_type": "code",
   "execution_count": 40,
   "metadata": {},
   "outputs": [
    {
     "data": {
      "text/plain": [
       "8144"
      ]
     },
     "execution_count": 40,
     "metadata": {},
     "output_type": "execute_result"
    }
   ],
   "source": [
    "# patients captured in the welfare program (scholarship)\n",
    "scholar_yes = med_df[(med_df.scholarship == 1) & (med_df.no_show == 'No')].scheduled_date\n",
    "\n",
    "# to count their numbers\n",
    "scholar_yes = scholar_yes.value_counts()\n",
    "\n",
    "scholar_yes.count()"
   ]
  },
  {
   "cell_type": "code",
   "execution_count": 51,
   "metadata": {},
   "outputs": [
    {
     "data": {
      "image/png": "[encoded data removed]",
      "text/plain": [
       "<matplotlib.figure.Figure at 0x7fb83f5ee978>"
      ]
     },
     "metadata": {},
     "output_type": "display_data"
    }
   ],
   "source": [
    "scholar = [not_scholar.count(), scholar_yes.count()]\n",
    "plt.figure(figsize=(6,5))\n",
    "label = ['Scholarship Unenrolled','Scholarship Enrolled']\n",
    "plt.title('Enrolled and Unenrolled Patients on Scheduled Day', size =20)\n",
    "color = sns.color_palette('cubehelix')\n",
    "explode = [0.1, 0]\n",
    "plt.pie(scholar, labels = label, explode=explode,colors = color, \n",
    "        autopct='%.1f%%', shadow = True, textprops={'fontsize': 15, 'color':'darkorange'})\n",
    "plt.legend(fontsize=8)\n",
    "plt.show()"
   ]
  },
  {
   "cell_type": "markdown",
   "metadata": {},
   "source": [
    " >Over 90% of patients on scheduled day are not enrolled in the scholarship program. Compared to those enrolled that are less than 10%. For this reason, patients that are not enrolled are expected to more on scheduled day."
   ]
  },
  {
   "cell_type": "markdown",
   "metadata": {},
   "source": [
    "##### Distribution of SMS message to Patients"
   ]
  },
  {
   "cell_type": "code",
   "execution_count": 42,
   "metadata": {},
   "outputs": [
    {
     "data": {
      "text/html": [
       "<div>\n",
       "<style scoped>\n",
       "    .dataframe tbody tr th:only-of-type {\n",
       "        vertical-align: middle;\n",
       "    }\n",
       "\n",
       "    .dataframe tbody tr th {\n",
       "        vertical-align: top;\n",
       "    }\n",
       "\n",
       "    .dataframe thead th {\n",
       "        text-align: right;\n",
       "    }\n",
       "</style>\n",
       "<table border=\"1\" class=\"dataframe\">\n",
       "  <thead>\n",
       "    <tr style=\"text-align: right;\">\n",
       "      <th></th>\n",
       "      <th>SMS_YES</th>\n",
       "    </tr>\n",
       "  </thead>\n",
       "  <tbody>\n",
       "    <tr>\n",
       "      <th>JARDIM CAMBURI</th>\n",
       "      <td>1939</td>\n",
       "    </tr>\n",
       "    <tr>\n",
       "      <th>MARIA ORTIZ</th>\n",
       "      <td>1460</td>\n",
       "    </tr>\n",
       "    <tr>\n",
       "      <th>JARDIM DA PENHA</th>\n",
       "      <td>1130</td>\n",
       "    </tr>\n",
       "    <tr>\n",
       "      <th>RESISTÊNCIA</th>\n",
       "      <td>1054</td>\n",
       "    </tr>\n",
       "    <tr>\n",
       "      <th>CENTRO</th>\n",
       "      <td>784</td>\n",
       "    </tr>\n",
       "  </tbody>\n",
       "</table>\n",
       "</div>"
      ],
      "text/plain": [
       "                 SMS_YES\n",
       "JARDIM CAMBURI      1939\n",
       "MARIA ORTIZ         1460\n",
       "JARDIM DA PENHA     1130\n",
       "RESISTÊNCIA         1054\n",
       "CENTRO               784"
      ]
     },
     "execution_count": 42,
     "metadata": {},
     "output_type": "execute_result"
    }
   ],
   "source": [
    "# to know patients that received sms message and were also present on scheduled day\n",
    "sms_yes = med_df[(med_df.sms_received == 1) & (med_df.no_show == 'No')].neighbourhood\n",
    "\n",
    "# counting and sorting of patients that received sms message\n",
    "sms_yes_hood = sms_yes.value_counts().sort_values(ascending = False).head(20).to_frame()\n",
    "\n",
    "# renaming of column label neighbourhood to SMS_YES(the label is capitalized for redability on visual legend)\n",
    "sms_yes_hood.rename(columns={'neighbourhood':'SMS_YES'}, inplace=True) \n",
    "sms_yes_hood.head()"
   ]
  },
  {
   "cell_type": "code",
   "execution_count": 43,
   "metadata": {},
   "outputs": [
    {
     "data": {
      "text/html": [
       "<div>\n",
       "<style scoped>\n",
       "    .dataframe tbody tr th:only-of-type {\n",
       "        vertical-align: middle;\n",
       "    }\n",
       "\n",
       "    .dataframe tbody tr th {\n",
       "        vertical-align: top;\n",
       "    }\n",
       "\n",
       "    .dataframe thead th {\n",
       "        text-align: right;\n",
       "    }\n",
       "</style>\n",
       "<table border=\"1\" class=\"dataframe\">\n",
       "  <thead>\n",
       "    <tr style=\"text-align: right;\">\n",
       "      <th></th>\n",
       "      <th>NO_SMS</th>\n",
       "    </tr>\n",
       "  </thead>\n",
       "  <tbody>\n",
       "    <tr>\n",
       "      <th>JARDIM CAMBURI</th>\n",
       "      <td>4313</td>\n",
       "    </tr>\n",
       "    <tr>\n",
       "      <th>MARIA ORTIZ</th>\n",
       "      <td>3126</td>\n",
       "    </tr>\n",
       "    <tr>\n",
       "      <th>RESISTÊNCIA</th>\n",
       "      <td>2471</td>\n",
       "    </tr>\n",
       "    <tr>\n",
       "      <th>JARDIM DA PENHA</th>\n",
       "      <td>2116</td>\n",
       "    </tr>\n",
       "    <tr>\n",
       "      <th>SANTA MARTHA</th>\n",
       "      <td>2070</td>\n",
       "    </tr>\n",
       "  </tbody>\n",
       "</table>\n",
       "</div>"
      ],
      "text/plain": [
       "                 NO_SMS\n",
       "JARDIM CAMBURI     4313\n",
       "MARIA ORTIZ        3126\n",
       "RESISTÊNCIA        2471\n",
       "JARDIM DA PENHA    2116\n",
       "SANTA MARTHA       2070"
      ]
     },
     "execution_count": 43,
     "metadata": {},
     "output_type": "execute_result"
    }
   ],
   "source": [
    "# to know patients that did not receive sms message but were present on scheduled day\n",
    "sms_no = med_df[(med_df.sms_received == 0) & (med_df.no_show == 'No')].neighbourhood\n",
    "\n",
    "# counting and sorting of patients that received sms message\n",
    "sms_no_hood = sms_no.value_counts().sort_values(ascending = False).head(20).to_frame()\n",
    "\n",
    "# renaming of column label neighbourhood to NO_SMS(the label is capitalized for redability on visual legend)\n",
    "sms_no_hood.rename(columns={'neighbourhood':'NO_SMS'}, inplace=True)\n",
    "sms_no_hood.head()"
   ]
  },
  {
   "cell_type": "code",
   "execution_count": 44,
   "metadata": {},
   "outputs": [
    {
     "data": {
      "text/html": [
       "<div>\n",
       "<style scoped>\n",
       "    .dataframe tbody tr th:only-of-type {\n",
       "        vertical-align: middle;\n",
       "    }\n",
       "\n",
       "    .dataframe tbody tr th {\n",
       "        vertical-align: top;\n",
       "    }\n",
       "\n",
       "    .dataframe thead th {\n",
       "        text-align: right;\n",
       "    }\n",
       "</style>\n",
       "<table border=\"1\" class=\"dataframe\">\n",
       "  <thead>\n",
       "    <tr style=\"text-align: right;\">\n",
       "      <th></th>\n",
       "      <th>NO_SMS</th>\n",
       "      <th>SMS_YES</th>\n",
       "    </tr>\n",
       "  </thead>\n",
       "  <tbody>\n",
       "    <tr>\n",
       "      <th>JARDIM CAMBURI</th>\n",
       "      <td>4313.0</td>\n",
       "      <td>1939.0</td>\n",
       "    </tr>\n",
       "    <tr>\n",
       "      <th>MARIA ORTIZ</th>\n",
       "      <td>3126.0</td>\n",
       "      <td>1460.0</td>\n",
       "    </tr>\n",
       "    <tr>\n",
       "      <th>RESISTÊNCIA</th>\n",
       "      <td>2471.0</td>\n",
       "      <td>1054.0</td>\n",
       "    </tr>\n",
       "    <tr>\n",
       "      <th>JARDIM DA PENHA</th>\n",
       "      <td>2116.0</td>\n",
       "      <td>1130.0</td>\n",
       "    </tr>\n",
       "    <tr>\n",
       "      <th>SANTA MARTHA</th>\n",
       "      <td>2070.0</td>\n",
       "      <td>565.0</td>\n",
       "    </tr>\n",
       "  </tbody>\n",
       "</table>\n",
       "</div>"
      ],
      "text/plain": [
       "                 NO_SMS  SMS_YES\n",
       "JARDIM CAMBURI   4313.0   1939.0\n",
       "MARIA ORTIZ      3126.0   1460.0\n",
       "RESISTÊNCIA      2471.0   1054.0\n",
       "JARDIM DA PENHA  2116.0   1130.0\n",
       "SANTA MARTHA     2070.0    565.0"
      ]
     },
     "execution_count": 44,
     "metadata": {},
     "output_type": "execute_result"
    }
   ],
   "source": [
    "# combining sms_no_hood and sms_yes_hood dataframes\n",
    "sms_yes_no = pd.concat([sms_no_hood, sms_yes_hood], axis=1, sort=False)\n",
    "\n",
    "# removing rows with null values\n",
    "sms_yes_no.dropna(inplace=True)\n",
    "sms_yes_no.head()"
   ]
  },
  {
   "cell_type": "code",
   "execution_count": 45,
   "metadata": {},
   "outputs": [
    {
     "data": {
      "text/html": [
       "<div>\n",
       "<style scoped>\n",
       "    .dataframe tbody tr th:only-of-type {\n",
       "        vertical-align: middle;\n",
       "    }\n",
       "\n",
       "    .dataframe tbody tr th {\n",
       "        vertical-align: top;\n",
       "    }\n",
       "\n",
       "    .dataframe thead th {\n",
       "        text-align: right;\n",
       "    }\n",
       "</style>\n",
       "<table border=\"1\" class=\"dataframe\">\n",
       "  <thead>\n",
       "    <tr style=\"text-align: right;\">\n",
       "      <th></th>\n",
       "      <th>NO_SMS</th>\n",
       "      <th>SMS_YES</th>\n",
       "      <th>area</th>\n",
       "    </tr>\n",
       "  </thead>\n",
       "  <tbody>\n",
       "    <tr>\n",
       "      <th>JARDIM CAMBURI</th>\n",
       "      <td>4313.0</td>\n",
       "      <td>1939.0</td>\n",
       "      <td>JARDIM CAMBURI</td>\n",
       "    </tr>\n",
       "    <tr>\n",
       "      <th>MARIA ORTIZ</th>\n",
       "      <td>3126.0</td>\n",
       "      <td>1460.0</td>\n",
       "      <td>MARIA ORTIZ</td>\n",
       "    </tr>\n",
       "    <tr>\n",
       "      <th>RESISTÊNCIA</th>\n",
       "      <td>2471.0</td>\n",
       "      <td>1054.0</td>\n",
       "      <td>RESISTÊNCIA</td>\n",
       "    </tr>\n",
       "    <tr>\n",
       "      <th>JARDIM DA PENHA</th>\n",
       "      <td>2116.0</td>\n",
       "      <td>1130.0</td>\n",
       "      <td>JARDIM DA PENHA</td>\n",
       "    </tr>\n",
       "    <tr>\n",
       "      <th>SANTA MARTHA</th>\n",
       "      <td>2070.0</td>\n",
       "      <td>565.0</td>\n",
       "      <td>SANTA MARTHA</td>\n",
       "    </tr>\n",
       "  </tbody>\n",
       "</table>\n",
       "</div>"
      ],
      "text/plain": [
       "                 NO_SMS  SMS_YES             area\n",
       "JARDIM CAMBURI   4313.0   1939.0   JARDIM CAMBURI\n",
       "MARIA ORTIZ      3126.0   1460.0      MARIA ORTIZ\n",
       "RESISTÊNCIA      2471.0   1054.0      RESISTÊNCIA\n",
       "JARDIM DA PENHA  2116.0   1130.0  JARDIM DA PENHA\n",
       "SANTA MARTHA     2070.0    565.0     SANTA MARTHA"
      ]
     },
     "execution_count": 45,
     "metadata": {},
     "output_type": "execute_result"
    }
   ],
   "source": [
    "# adding area column\n",
    "sms_yes_no['area'] = sms_yes_no.index\n",
    "sms_yes_no.head()"
   ]
  },
  {
   "cell_type": "code",
   "execution_count": 46,
   "metadata": {},
   "outputs": [
    {
     "data": {
      "image/png": "[encoded data removed]",
      "text/plain": [
       "<matplotlib.figure.Figure at 0x7fb83f627400>"
      ]
     },
     "metadata": {
      "needs_background": "light"
     },
     "output_type": "display_data"
    }
   ],
   "source": [
    "# bar chart for patients that received SMS and patients that did not receive\n",
    "sms_yes_no.plot(kind='barh', \n",
    "                figsize =(13,8), fontsize=15, \n",
    "                title=('Distribution of Patients from Neighbourhoods According to SMS'));"
   ]
  },
  {
   "cell_type": "markdown",
   "metadata": {},
   "source": [
    ">Patients that received SMS are twice lower than patients that did not received SMS on scheduled day. It can be assumed that sending SMS to patients is less important. "
   ]
  },
  {
   "cell_type": "markdown",
   "metadata": {},
   "source": [
    "<a id='conclusions'></a>\n",
    "## Conclusions\n",
    "\n",
    ">The investigative analysis of this project started looking at distribution of patients across neighbourhoods. The most populated neighbourhood; Jardim Camburi with 7717 patients, will possibly have more number of patients present on scheduled day. Unlike Parque Industrial that has 1 patient.\n",
    "\n",
    ">In terms of gender, female patients are likely to be available on scheduled day having 65% of the population compared to male patients with 35% population. Additionally, patients that are young and those that are old are almost equal. This means that it will be difficult to suggest age group of people that will be available on scheduled day.\n",
    "\n",
    ">This project also revealed the days of the week that patients will likely be present at medical facilities. Patients are more likely to be present on Tuesdays, Wednesdays, Mondays, Fridays, and Thursdays respectively. Saturdays and Sundays are days that patients might not go for medical appointment.\n",
    "\n",
    ">Pertaining to schorlaship (welfare program), patients that are not beneficiaries are more than 90% while, those enrolled are less than 10%. Likewisely, patients that received sms message are twice lower than patients that did not receive sms message but present on scheduled day. It is easier to suggest that patients that are not on scholarship and not receiving sms message will most likely be present on scheduled day.\n",
    "\n",
    "**Limitations**\n",
    ">1. The dataset covered only 3 months (April - June, 2016) timeline. This timeline is too short to come up with reliable prediction.\n",
    "\n",
    ">2. Neighbourhoods with highest number of population present might have some unknown factors responsible for this. Possibly availability of modern equipments or highly skilled health workers in medical facilities of some neighbourhoods.\n",
    "\n",
    ">3. Most of the variables contain label data that limit the level of statistical analysis that could be performed.\n",
    "\n",
    ">4. Further information or study is needed to ascertain reasons patients receiving sms message are distantly lower than patients not receiving sms message.\n",
    "\n",
    "#### References:\n",
    "https://matplotlib.org/stable/gallery/color/named_colors.html\n",
    "\n",
    "https://matplotlib.org/stable/tutorials/intermediate/arranging_axes.html#sphx-glr-tutorials-intermediate-arranging-axes-py\n",
    "\n",
    "https://stackoverflow.com/questions/59056087/typeerror-to-frame-got-an-unexpected-keyword-argument-index\n",
    "\n",
    "https://www.tutorialspoint.com/matplotlib/matplotlib_bar_plot.html\n",
    "\n",
    "https://seaborn.pydata.org/tutorial/color_palettes.html\n"
   ]
  }
 ],
 "metadata": {
  "kernelspec": {
   "display_name": "Python 3 (ipykernel)",
   "language": "python",
   "name": "python3"
  },
  "language_info": {
   "codemirror_mode": {
    "name": "ipython",
    "version": 3
   },
   "file_extension": ".py",
   "mimetype": "text/x-python",
   "name": "python",
   "nbconvert_exporter": "python",
   "pygments_lexer": "ipython3",
   "version": "3.8.13"
  }
 },
 "nbformat": 4,
 "nbformat_minor": 2
}
